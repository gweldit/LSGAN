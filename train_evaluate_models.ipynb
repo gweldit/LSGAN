{
 "cells": [
  {
   "cell_type": "code",
   "execution_count": 1,
   "metadata": {},
   "outputs": [],
   "source": [
    "from typing import List\n",
    "import networkx as nx\n",
    "import matplotlib.pyplot as plt\n",
    "import torch\n",
    "import numpy as np\n",
    "from torch_geometric.utils.convert import from_networkx\n",
    "\n",
    "from collections import Counter\n",
    "from sklearn.metrics import f1_score\n",
    "from torch_geometric.loader import DataLoader\n",
    "from torch_geometric.data import Data, Batch\n",
    "from torch_geometric.nn import GCN, global_mean_pool\n",
    "from tqdm import tqdm\n",
    "import torch.nn as nn\n",
    "from torch.optim import Adam\n",
    "import torch.nn.functional as F\n",
    "\n",
    "from pathlib import Path\n",
    "import os\n",
    "from random import shuffle\n",
    "# custom modules\n",
    "from models import Generator, Discriminator\n",
    "from custom_dataset import CustomSequenceDataset\n",
    "from preprecess_data import read_adfa_data, sequence_to_graph, fetch_graph_data\n",
    "from utils import get_device, plot_loss_curve, evaluate_gcn_model\n",
    "from classifiers import GCNModel\n",
    "from train import train_gan_model\n",
    "from train import train_gcn_model"
   ]
  },
  {
   "cell_type": "markdown",
   "metadata": {},
   "source": [
    "# read, preprocess, and fetch the ADFA datasets"
   ]
  },
  {
   "cell_type": "code",
   "execution_count": 2,
   "metadata": {},
   "outputs": [],
   "source": [
    "data_folder = \"ADFA\"  # make sure \"ADFA\" folder in the parent directory of this project's folder [ie., your codes]\n",
    "current_directory = Path(os.getcwd())\n",
    "parent_path = current_directory.parent.absolute()\n",
    "# print(current_directory.parent.absolute())\n",
    "\n",
    "full_data_folder_path = os.path.join(parent_path, data_folder)"
   ]
  },
  {
   "cell_type": "code",
   "execution_count": 3,
   "metadata": {},
   "outputs": [
    {
     "data": {
      "text/plain": [
       "(2717, 2717, 9195, 9195)"
      ]
     },
     "execution_count": 3,
     "metadata": {},
     "output_type": "execute_result"
    }
   ],
   "source": [
    "adfa_sub_folders = [\"Training_Data_Master\",\"Validation_Data_Master\", \"Attack_Data_Master\"]\n",
    "\n",
    "benign_training_data_path = os.path.join(full_data_folder_path, adfa_sub_folders[0])\n",
    "benign_validation_data_path = os.path.join(full_data_folder_path, adfa_sub_folders[1])\n",
    "\n",
    "attack_data_path = os.path.join(full_data_folder_path, adfa_sub_folders[2])\n",
    "\n",
    "\n",
    "# read the sub folders\n",
    "benign_train_sequences, benign_train_labels  = read_adfa_data(benign_training_data_path)\n",
    "\n",
    "benign_val_sequences, benign_val_labels  = read_adfa_data(benign_validation_data_path)\n",
    "\n",
    "attack_sequences, attack_labels  = read_adfa_data(attack_data_path)\n",
    "\n",
    "# the attack data are splitted into train and val data using 70% and 30% respectively.\n",
    "\n",
    "shuffle(attack_sequences)  # shuffle the attack data so that the six attack categories are mixed up in the train and val data\n",
    "\n",
    "# since, label is the 'same' = 1 for all the attack data, no need to shuffle it.\n",
    "# split the attack_sequences\n",
    "n_samples = int (len(attack_sequences) * 0.7)  \n",
    "train_attack_sequences = attack_sequences[:n_samples]\n",
    "train_attack_labels = attack_labels[:n_samples]\n",
    "\n",
    "val_attack_sequences = attack_sequences[n_samples:]\n",
    "val_attack_labels = attack_labels[n_samples:]\n",
    "\n",
    "\n",
    "# Now, combine the both training data\n",
    "train_data = benign_train_sequences + train_attack_sequences\n",
    "train_labels = benign_train_labels + train_attack_labels\n",
    "\n",
    "# combine the validation data\n",
    "val_data = benign_val_sequences + val_attack_sequences\n",
    "val_labels = benign_val_labels + val_attack_labels\n",
    "\n",
    "len(train_data), len(train_labels), len(val_data), len(val_labels)"
   ]
  },
  {
   "cell_type": "code",
   "execution_count": 4,
   "metadata": {},
   "outputs": [
    {
     "data": {
      "text/plain": [
       "1502"
      ]
     },
     "execution_count": 4,
     "metadata": {},
     "output_type": "execute_result"
    }
   ],
   "source": [
    "len(attack_sequences)"
   ]
  },
  {
   "cell_type": "code",
   "execution_count": 5,
   "metadata": {},
   "outputs": [
    {
     "data": {
      "text/plain": [
       "Counter({0: 1666, 1: 1051})"
      ]
     },
     "execution_count": 5,
     "metadata": {},
     "output_type": "execute_result"
    }
   ],
   "source": [
    "# Data is imbalanced: 1666 samples of benign & 1051 samples of attack (malignant) will be used for training the GCN model\n",
    "Counter(train_labels) "
   ]
  },
  {
   "cell_type": "code",
   "execution_count": 6,
   "metadata": {},
   "outputs": [],
   "source": [
    "# Create a custom dataset \n",
    "batch_size = 64\n",
    "# convert train_data sequences and val_data sequences into graphs\n",
    "\n",
    "train_graph_dataset = fetch_graph_data(train_data, train_labels)\n",
    "val_graph_dataset = fetch_graph_data(val_data, val_labels)\n",
    "\n",
    "\n",
    "# Create a data loader\n",
    "graph_train_loader = DataLoader(train_graph_dataset, batch_size=batch_size, shuffle=True)\n",
    "graph_val_loader = DataLoader(val_graph_dataset, batch_size=batch_size, shuffle=False)"
   ]
  },
  {
   "cell_type": "code",
   "execution_count": 7,
   "metadata": {},
   "outputs": [
    {
     "data": {
      "text/plain": [
       "Data(edge_index=[2, 53], weight=[53], num_nodes=26, x=[1], y=0)"
      ]
     },
     "execution_count": 7,
     "metadata": {},
     "output_type": "execute_result"
    }
   ],
   "source": [
    "# you can see the graph data: it has edge_index, weight, num_nodes, y (label of the graph, i.e., malign or benign), and x (node features). Here, x is a list of integers representing the node features. They need to be converted to a one-hot vector of size vocab_size or vector of embedded representation.\n",
    "train_graph_dataset[0]"
   ]
  },
  {
   "cell_type": "code",
   "execution_count": 8,
   "metadata": {},
   "outputs": [
    {
     "name": "stderr",
     "output_type": "stream",
     "text": [
      "100%|██████████| 43/43 [00:00<00:00, 60.53it/s]\n"
     ]
    },
    {
     "name": "stdout",
     "output_type": "stream",
     "text": [
      "Epoch 1 / 35, Loss: 0.5860, F1 Score: 0.3073\n"
     ]
    },
    {
     "name": "stderr",
     "output_type": "stream",
     "text": [
      "100%|██████████| 43/43 [00:00<00:00, 57.70it/s]\n"
     ]
    },
    {
     "name": "stdout",
     "output_type": "stream",
     "text": [
      "Epoch 2 / 35, Loss: 0.4204, F1 Score: 0.8606\n"
     ]
    },
    {
     "name": "stderr",
     "output_type": "stream",
     "text": [
      "100%|██████████| 43/43 [00:00<00:00, 62.76it/s]\n"
     ]
    },
    {
     "name": "stdout",
     "output_type": "stream",
     "text": [
      "Epoch 3 / 35, Loss: 0.4017, F1 Score: 0.8774\n"
     ]
    },
    {
     "name": "stderr",
     "output_type": "stream",
     "text": [
      "100%|██████████| 43/43 [00:00<00:00, 62.85it/s]\n"
     ]
    },
    {
     "name": "stdout",
     "output_type": "stream",
     "text": [
      "Epoch 4 / 35, Loss: 0.3914, F1 Score: 0.8911\n"
     ]
    },
    {
     "name": "stderr",
     "output_type": "stream",
     "text": [
      "100%|██████████| 43/43 [00:00<00:00, 63.22it/s]\n"
     ]
    },
    {
     "name": "stdout",
     "output_type": "stream",
     "text": [
      "Epoch 5 / 35, Loss: 0.3865, F1 Score: 0.8973\n"
     ]
    },
    {
     "name": "stderr",
     "output_type": "stream",
     "text": [
      "100%|██████████| 43/43 [00:00<00:00, 64.24it/s]\n"
     ]
    },
    {
     "name": "stdout",
     "output_type": "stream",
     "text": [
      "Epoch 6 / 35, Loss: 0.3785, F1 Score: 0.9108\n"
     ]
    },
    {
     "name": "stderr",
     "output_type": "stream",
     "text": [
      "100%|██████████| 43/43 [00:00<00:00, 62.31it/s]\n"
     ]
    },
    {
     "name": "stdout",
     "output_type": "stream",
     "text": [
      "Epoch 7 / 35, Loss: 0.3790, F1 Score: 0.9138\n"
     ]
    },
    {
     "name": "stderr",
     "output_type": "stream",
     "text": [
      "100%|██████████| 43/43 [00:00<00:00, 59.14it/s]\n"
     ]
    },
    {
     "name": "stdout",
     "output_type": "stream",
     "text": [
      "Epoch 8 / 35, Loss: 0.3734, F1 Score: 0.9189\n"
     ]
    },
    {
     "name": "stderr",
     "output_type": "stream",
     "text": [
      "100%|██████████| 43/43 [00:00<00:00, 63.18it/s]\n"
     ]
    },
    {
     "name": "stdout",
     "output_type": "stream",
     "text": [
      "Epoch 9 / 35, Loss: 0.3684, F1 Score: 0.9250\n"
     ]
    },
    {
     "name": "stderr",
     "output_type": "stream",
     "text": [
      "100%|██████████| 43/43 [00:00<00:00, 59.51it/s]\n"
     ]
    },
    {
     "name": "stdout",
     "output_type": "stream",
     "text": [
      "Epoch 10 / 35, Loss: 0.3654, F1 Score: 0.9303\n"
     ]
    },
    {
     "name": "stderr",
     "output_type": "stream",
     "text": [
      "100%|██████████| 43/43 [00:00<00:00, 61.68it/s]\n"
     ]
    },
    {
     "name": "stdout",
     "output_type": "stream",
     "text": [
      "Epoch 11 / 35, Loss: 0.3582, F1 Score: 0.9392\n"
     ]
    },
    {
     "name": "stderr",
     "output_type": "stream",
     "text": [
      "100%|██████████| 43/43 [00:00<00:00, 58.85it/s]\n"
     ]
    },
    {
     "name": "stdout",
     "output_type": "stream",
     "text": [
      "Epoch 12 / 35, Loss: 0.3572, F1 Score: 0.9412\n"
     ]
    },
    {
     "name": "stderr",
     "output_type": "stream",
     "text": [
      "100%|██████████| 43/43 [00:00<00:00, 59.73it/s]\n"
     ]
    },
    {
     "name": "stdout",
     "output_type": "stream",
     "text": [
      "Epoch 13 / 35, Loss: 0.3576, F1 Score: 0.9407\n"
     ]
    },
    {
     "name": "stderr",
     "output_type": "stream",
     "text": [
      "100%|██████████| 43/43 [00:00<00:00, 50.60it/s]\n"
     ]
    },
    {
     "name": "stdout",
     "output_type": "stream",
     "text": [
      "Epoch 14 / 35, Loss: 0.3549, F1 Score: 0.9475\n"
     ]
    },
    {
     "name": "stderr",
     "output_type": "stream",
     "text": [
      "100%|██████████| 43/43 [00:00<00:00, 59.91it/s]\n"
     ]
    },
    {
     "name": "stdout",
     "output_type": "stream",
     "text": [
      "Epoch 15 / 35, Loss: 0.3557, F1 Score: 0.9430\n"
     ]
    },
    {
     "name": "stderr",
     "output_type": "stream",
     "text": [
      "100%|██████████| 43/43 [00:00<00:00, 59.29it/s]\n"
     ]
    },
    {
     "name": "stdout",
     "output_type": "stream",
     "text": [
      "Epoch 16 / 35, Loss: 0.3521, F1 Score: 0.9519\n"
     ]
    },
    {
     "name": "stderr",
     "output_type": "stream",
     "text": [
      "100%|██████████| 43/43 [00:00<00:00, 55.15it/s]\n"
     ]
    },
    {
     "name": "stdout",
     "output_type": "stream",
     "text": [
      "Epoch 17 / 35, Loss: 0.3473, F1 Score: 0.9576\n"
     ]
    },
    {
     "name": "stderr",
     "output_type": "stream",
     "text": [
      "100%|██████████| 43/43 [00:00<00:00, 61.88it/s]\n"
     ]
    },
    {
     "name": "stdout",
     "output_type": "stream",
     "text": [
      "Epoch 18 / 35, Loss: 0.3501, F1 Score: 0.9519\n"
     ]
    },
    {
     "name": "stderr",
     "output_type": "stream",
     "text": [
      "100%|██████████| 43/43 [00:00<00:00, 51.90it/s]\n"
     ]
    },
    {
     "name": "stdout",
     "output_type": "stream",
     "text": [
      "Epoch 19 / 35, Loss: 0.3465, F1 Score: 0.9602\n"
     ]
    },
    {
     "name": "stderr",
     "output_type": "stream",
     "text": [
      "100%|██████████| 43/43 [00:00<00:00, 59.77it/s]\n"
     ]
    },
    {
     "name": "stdout",
     "output_type": "stream",
     "text": [
      "Epoch 20 / 35, Loss: 0.3506, F1 Score: 0.9495\n"
     ]
    },
    {
     "name": "stderr",
     "output_type": "stream",
     "text": [
      "100%|██████████| 43/43 [00:00<00:00, 63.54it/s]\n"
     ]
    },
    {
     "name": "stdout",
     "output_type": "stream",
     "text": [
      "Epoch 21 / 35, Loss: 0.3456, F1 Score: 0.9579\n"
     ]
    },
    {
     "name": "stderr",
     "output_type": "stream",
     "text": [
      "100%|██████████| 43/43 [00:00<00:00, 62.58it/s]\n"
     ]
    },
    {
     "name": "stdout",
     "output_type": "stream",
     "text": [
      "Epoch 22 / 35, Loss: 0.3447, F1 Score: 0.9629\n"
     ]
    },
    {
     "name": "stderr",
     "output_type": "stream",
     "text": [
      "100%|██████████| 43/43 [00:00<00:00, 61.34it/s]\n"
     ]
    },
    {
     "name": "stdout",
     "output_type": "stream",
     "text": [
      "Epoch 23 / 35, Loss: 0.3445, F1 Score: 0.9604\n"
     ]
    },
    {
     "name": "stderr",
     "output_type": "stream",
     "text": [
      "100%|██████████| 43/43 [00:00<00:00, 62.59it/s]\n"
     ]
    },
    {
     "name": "stdout",
     "output_type": "stream",
     "text": [
      "Epoch 24 / 35, Loss: 0.3467, F1 Score: 0.9570\n"
     ]
    },
    {
     "name": "stderr",
     "output_type": "stream",
     "text": [
      "100%|██████████| 43/43 [00:00<00:00, 63.70it/s]\n"
     ]
    },
    {
     "name": "stdout",
     "output_type": "stream",
     "text": [
      "Epoch 25 / 35, Loss: 0.3438, F1 Score: 0.9601\n"
     ]
    },
    {
     "name": "stderr",
     "output_type": "stream",
     "text": [
      "100%|██████████| 43/43 [00:00<00:00, 63.58it/s]\n"
     ]
    },
    {
     "name": "stdout",
     "output_type": "stream",
     "text": [
      "Epoch 26 / 35, Loss: 0.3396, F1 Score: 0.9687\n"
     ]
    },
    {
     "name": "stderr",
     "output_type": "stream",
     "text": [
      "100%|██████████| 43/43 [00:00<00:00, 64.66it/s]\n"
     ]
    },
    {
     "name": "stdout",
     "output_type": "stream",
     "text": [
      "Epoch 27 / 35, Loss: 0.3442, F1 Score: 0.9610\n"
     ]
    },
    {
     "name": "stderr",
     "output_type": "stream",
     "text": [
      "100%|██████████| 43/43 [00:00<00:00, 63.81it/s]\n"
     ]
    },
    {
     "name": "stdout",
     "output_type": "stream",
     "text": [
      "Epoch 28 / 35, Loss: 0.3417, F1 Score: 0.9633\n"
     ]
    },
    {
     "name": "stderr",
     "output_type": "stream",
     "text": [
      "100%|██████████| 43/43 [00:00<00:00, 57.66it/s]\n"
     ]
    },
    {
     "name": "stdout",
     "output_type": "stream",
     "text": [
      "Epoch 29 / 35, Loss: 0.3404, F1 Score: 0.9626\n"
     ]
    },
    {
     "name": "stderr",
     "output_type": "stream",
     "text": [
      "100%|██████████| 43/43 [00:00<00:00, 65.94it/s]\n"
     ]
    },
    {
     "name": "stdout",
     "output_type": "stream",
     "text": [
      "Epoch 30 / 35, Loss: 0.3446, F1 Score: 0.9616\n"
     ]
    },
    {
     "name": "stderr",
     "output_type": "stream",
     "text": [
      "100%|██████████| 43/43 [00:00<00:00, 65.00it/s]\n"
     ]
    },
    {
     "name": "stdout",
     "output_type": "stream",
     "text": [
      "Epoch 31 / 35, Loss: 0.3400, F1 Score: 0.9687\n"
     ]
    },
    {
     "name": "stderr",
     "output_type": "stream",
     "text": [
      "100%|██████████| 43/43 [00:00<00:00, 64.96it/s]\n"
     ]
    },
    {
     "name": "stdout",
     "output_type": "stream",
     "text": [
      "Epoch 32 / 35, Loss: 0.3385, F1 Score: 0.9691\n"
     ]
    },
    {
     "name": "stderr",
     "output_type": "stream",
     "text": [
      "100%|██████████| 43/43 [00:00<00:00, 64.03it/s]\n"
     ]
    },
    {
     "name": "stdout",
     "output_type": "stream",
     "text": [
      "Epoch 33 / 35, Loss: 0.3400, F1 Score: 0.9651\n"
     ]
    },
    {
     "name": "stderr",
     "output_type": "stream",
     "text": [
      "100%|██████████| 43/43 [00:00<00:00, 62.24it/s]\n"
     ]
    },
    {
     "name": "stdout",
     "output_type": "stream",
     "text": [
      "Epoch 34 / 35, Loss: 0.3410, F1 Score: 0.9644\n"
     ]
    },
    {
     "name": "stderr",
     "output_type": "stream",
     "text": [
      "100%|██████████| 43/43 [00:00<00:00, 62.83it/s]"
     ]
    },
    {
     "name": "stdout",
     "output_type": "stream",
     "text": [
      "Epoch 35 / 35, Loss: 0.3365, F1 Score: 0.9746\n"
     ]
    },
    {
     "name": "stderr",
     "output_type": "stream",
     "text": [
      "\n"
     ]
    }
   ],
   "source": [
    "# device = get_device()\n",
    "vocab_size = 342\n",
    "hidden_dim = 128 # also the number of hidden nodes in the GCN. Can be set to 128, 256 or 512. If you have more GPU, you can increase it. However, you may face overfitting. Increase dropout if you face overfitting. Like dropout = 0.6, 0.7, 0.8\n",
    "num_classes = 2\n",
    "dropout = 0.6\n",
    "output_dim = num_classes\n",
    "# number of GCN layers, depending on your GPU, set it to any integer from 2 to 5.\n",
    "num_layers = 3\n",
    "EPOCHS_GCN = 35 \n",
    "\n",
    "\n",
    "device=torch.device('cpu')\n",
    "\n",
    "\n",
    "gcn_model = GCNModel(in_channels=vocab_size, hidden_channels=hidden_dim,out_channels=num_classes, num_layers=num_layers, dropout=dropout).to(device)\n",
    "\n",
    "train_losses, train_f1_scores = train_gcn_model(gcn_model, graph_train_loader,  vocab_size=vocab_size,epochs=EPOCHS_GCN, device=device)"
   ]
  },
  {
   "cell_type": "code",
   "execution_count": 9,
   "metadata": {},
   "outputs": [
    {
     "data": {
      "image/png": "[encoded data removed]",
      "text/plain": [
       "<Figure size 640x480 with 1 Axes>"
      ]
     },
     "metadata": {},
     "output_type": "display_data"
    }
   ],
   "source": [
    "x = np.arange(EPOCHS_GCN, dtype=int)\n",
    "plt.plot(x, train_losses, color=\"red\", label=\"GCN Training Loss\")\n",
    "plt.plot(x, train_f1_scores, color=\"blue\", label=\"GCN Training F1 Score\")\n",
    "plt.title(\"Training Loss and F1 Score\")\n",
    "plt.xlabel(\"Epochs\")\n",
    "plt.ylabel(\"Loss\")\n",
    "plt.legend()\n",
    "plt.show()"
   ]
  },
  {
   "cell_type": "code",
   "execution_count": 10,
   "metadata": {},
   "outputs": [
    {
     "name": "stdout",
     "output_type": "stream",
     "text": [
      "GCN performance:\n",
      "Accuracy: 0.8883\n",
      "Precision: 0.2949\n",
      "Recall: 0.9180\n",
      "F1 score: 0.4464\n",
      "MCC: 0.4832\n"
     ]
    }
   ],
   "source": [
    "evaluate_gcn_model(gcn_model, graph_val_loader, vocab_size=vocab_size, device=device)"
   ]
  },
  {
   "cell_type": "code",
   "execution_count": 11,
   "metadata": {},
   "outputs": [
    {
     "data": {
      "text/plain": [
       "(torch.Size([2717, 2948]), torch.Size([9195, 4494]))"
      ]
     },
     "execution_count": 11,
     "metadata": {},
     "output_type": "execute_result"
    }
   ],
   "source": [
    "# PREPARE DATASET FOR GAN MODEL: pad the sequences to make them of same length, then trim them to a fixed sequence length to avoid too much padding.\n",
    "from torch.nn.utils.rnn import pad_sequence\n",
    "# convert train_data sequences and val_data sequences into graphs\n",
    "SEQUENCE_LENGTH = 100\n",
    "train_data_padded = pad_sequence([torch.tensor(sequence, dtype=torch.long) for sequence in train_data], batch_first=True)\n",
    "val_data_padded = pad_sequence([torch.tensor(sequence, dtype=torch.long) for sequence in val_data], batch_first=True)\n",
    "\n",
    "train_data_padded.shape, val_data_padded.shape"
   ]
  },
  {
   "cell_type": "code",
   "execution_count": 12,
   "metadata": {},
   "outputs": [],
   "source": [
    "train_data_padded[:, SEQUENCE_LENGTH].shape, val_data_padded[:SEQUENCE_LENGTH].shape\n",
    "\n",
    "# our dataset will be of shape (n_samples, SEQUENCE_LENGTH).\n",
    "train_dataset = CustomSequenceDataset(train_data_padded[:, :SEQUENCE_LENGTH], train_labels) \n",
    "val_dataset = CustomSequenceDataset(val_data_padded[:, :SEQUENCE_LENGTH], val_labels)\n",
    "\n",
    "train_loader = DataLoader(train_dataset, batch_size=batch_size, shuffle=True)\n",
    "val_loader = DataLoader(val_dataset, batch_size=batch_size, shuffle=False)"
   ]
  },
  {
   "cell_type": "code",
   "execution_count": 13,
   "metadata": {},
   "outputs": [],
   "source": [
    "# hyperparameters of the generator and discriminator of the GAN model\n",
    "latent_dim = 100\n",
    "hidden_dim = 128\n",
    "vocab_size = 342 # we have 342 unique system calls in the ADFA dataset\n",
    "seq_len = SEQUENCE_LENGTH  # sequence length of the ADFA dataset with less than 120, will be padded. If sequence is longer than 120, it will be truncated.\n",
    "output_dim = vocab_size\n",
    "embed_dim = 10\n",
    "dropout = 0.5\n",
    "batch_size = 32\n",
    "n_samples = 1000\n",
    "num_classes = 2\n",
    "lr = 1e-4 # 2e-6\n",
    "epochs = 50\n",
    "# criterion = nn.BCELoss()\n",
    "criterion = nn.CrossEntropyLoss() \n",
    "device = get_device()\n",
    "temperature = 0.2  # 0.1\n",
    "\n",
    "gen = Generator(latent_dim, seq_len, hidden_dim, output_dim, embed_dim, dropout, conditional_info=True, num_classes=num_classes).to(\n",
    "    device\n",
    ")\n",
    "# gen = Gen(latent_dim, hidden_dim, seq_len, output_dim, embed_dim, dropout).to(device)\n",
    "\n",
    "disc = Discriminator(vocab_size,seq_len, hidden_dim, embed_dim, dropout, conditional_info=True, num_classes=num_classes).to(device)\n",
    "\n",
    "gen_optimizer = Adam(gen.parameters(), lr=lr, betas=(0.5, 0.999))\n",
    "\n",
    "disc_optimizer = Adam(disc.parameters(), lr=lr, betas=(0.5, 0.999))"
   ]
  },
  {
   "cell_type": "code",
   "execution_count": 14,
   "metadata": {},
   "outputs": [],
   "source": [
    "# input_data = torch.randint(0, vocab_size, (n_samples, seq_len))\n",
    "# input_labels = torch.randint(0, num_classes, (n_samples,))\n",
    "# train_dataset = CustomSequenceDataset(input_data, input_labels)\n",
    "# train_loader = DataLoader(train_dataset, batch_size=batch_size, shuffle=True)"
   ]
  },
  {
   "cell_type": "code",
   "execution_count": 15,
   "metadata": {},
   "outputs": [
    {
     "name": "stdout",
     "output_type": "stream",
     "text": [
      "Epoch 1 / 50\n"
     ]
    },
    {
     "name": "stderr",
     "output_type": "stream",
     "text": [
      "100%|██████████| 43/43 [00:02<00:00, 15.38it/s]\n"
     ]
    },
    {
     "name": "stdout",
     "output_type": "stream",
     "text": [
      "D Loss: 1.3894, G Loss: -0.6542\n",
      "Epoch 2 / 50\n"
     ]
    },
    {
     "name": "stderr",
     "output_type": "stream",
     "text": [
      "100%|██████████| 43/43 [00:02<00:00, 19.99it/s]\n"
     ]
    },
    {
     "name": "stdout",
     "output_type": "stream",
     "text": [
      "D Loss: 1.3902, G Loss: -0.6567\n",
      "Epoch 3 / 50\n"
     ]
    },
    {
     "name": "stderr",
     "output_type": "stream",
     "text": [
      "100%|██████████| 43/43 [00:02<00:00, 19.61it/s]\n"
     ]
    },
    {
     "name": "stdout",
     "output_type": "stream",
     "text": [
      "D Loss: 1.3886, G Loss: -0.6710\n",
      "Epoch 4 / 50\n"
     ]
    },
    {
     "name": "stderr",
     "output_type": "stream",
     "text": [
      "100%|██████████| 43/43 [00:02<00:00, 20.11it/s]\n"
     ]
    },
    {
     "name": "stdout",
     "output_type": "stream",
     "text": [
      "D Loss: 1.3888, G Loss: -0.6772\n",
      "Epoch 5 / 50\n"
     ]
    },
    {
     "name": "stderr",
     "output_type": "stream",
     "text": [
      "100%|██████████| 43/43 [00:02<00:00, 18.25it/s]\n"
     ]
    },
    {
     "name": "stdout",
     "output_type": "stream",
     "text": [
      "D Loss: 1.3902, G Loss: -0.6769\n",
      "Epoch 6 / 50\n"
     ]
    },
    {
     "name": "stderr",
     "output_type": "stream",
     "text": [
      "100%|██████████| 43/43 [00:02<00:00, 18.58it/s]\n"
     ]
    },
    {
     "name": "stdout",
     "output_type": "stream",
     "text": [
      "D Loss: 1.3888, G Loss: -0.6840\n",
      "Epoch 7 / 50\n"
     ]
    },
    {
     "name": "stderr",
     "output_type": "stream",
     "text": [
      "100%|██████████| 43/43 [00:02<00:00, 19.35it/s]\n"
     ]
    },
    {
     "name": "stdout",
     "output_type": "stream",
     "text": [
      "D Loss: 1.3900, G Loss: -0.6884\n",
      "Epoch 8 / 50\n"
     ]
    },
    {
     "name": "stderr",
     "output_type": "stream",
     "text": [
      "100%|██████████| 43/43 [00:02<00:00, 20.36it/s]\n"
     ]
    },
    {
     "name": "stdout",
     "output_type": "stream",
     "text": [
      "D Loss: 1.3823, G Loss: -0.6896\n",
      "Epoch 9 / 50\n"
     ]
    },
    {
     "name": "stderr",
     "output_type": "stream",
     "text": [
      "100%|██████████| 43/43 [00:02<00:00, 20.10it/s]\n"
     ]
    },
    {
     "name": "stdout",
     "output_type": "stream",
     "text": [
      "D Loss: 1.3881, G Loss: -0.6901\n",
      "Epoch 10 / 50\n"
     ]
    },
    {
     "name": "stderr",
     "output_type": "stream",
     "text": [
      "100%|██████████| 43/43 [00:02<00:00, 19.35it/s]\n"
     ]
    },
    {
     "name": "stdout",
     "output_type": "stream",
     "text": [
      "D Loss: 1.3838, G Loss: -0.6903\n",
      "Epoch 11 / 50\n"
     ]
    },
    {
     "name": "stderr",
     "output_type": "stream",
     "text": [
      "100%|██████████| 43/43 [00:02<00:00, 20.21it/s]\n"
     ]
    },
    {
     "name": "stdout",
     "output_type": "stream",
     "text": [
      "D Loss: 1.3852, G Loss: -0.6894\n",
      "Epoch 12 / 50\n"
     ]
    },
    {
     "name": "stderr",
     "output_type": "stream",
     "text": [
      "100%|██████████| 43/43 [00:02<00:00, 20.10it/s]\n"
     ]
    },
    {
     "name": "stdout",
     "output_type": "stream",
     "text": [
      "D Loss: 1.3876, G Loss: -0.6877\n",
      "Epoch 13 / 50\n"
     ]
    },
    {
     "name": "stderr",
     "output_type": "stream",
     "text": [
      "100%|██████████| 43/43 [00:02<00:00, 19.69it/s]\n"
     ]
    },
    {
     "name": "stdout",
     "output_type": "stream",
     "text": [
      "D Loss: 1.3850, G Loss: -0.6945\n",
      "Epoch 14 / 50\n"
     ]
    },
    {
     "name": "stderr",
     "output_type": "stream",
     "text": [
      "100%|██████████| 43/43 [00:02<00:00, 19.69it/s]\n"
     ]
    },
    {
     "name": "stdout",
     "output_type": "stream",
     "text": [
      "D Loss: 1.3909, G Loss: -0.6869\n",
      "Epoch 15 / 50\n"
     ]
    },
    {
     "name": "stderr",
     "output_type": "stream",
     "text": [
      "100%|██████████| 43/43 [00:02<00:00, 19.72it/s]\n"
     ]
    },
    {
     "name": "stdout",
     "output_type": "stream",
     "text": [
      "D Loss: 1.3825, G Loss: -0.6917\n",
      "Epoch 16 / 50\n"
     ]
    },
    {
     "name": "stderr",
     "output_type": "stream",
     "text": [
      "100%|██████████| 43/43 [00:02<00:00, 17.63it/s]\n"
     ]
    },
    {
     "name": "stdout",
     "output_type": "stream",
     "text": [
      "D Loss: 1.3846, G Loss: -0.6907\n",
      "Epoch 17 / 50\n"
     ]
    },
    {
     "name": "stderr",
     "output_type": "stream",
     "text": [
      "100%|██████████| 43/43 [00:02<00:00, 19.28it/s]\n"
     ]
    },
    {
     "name": "stdout",
     "output_type": "stream",
     "text": [
      "D Loss: 1.3829, G Loss: -0.6938\n",
      "Epoch 18 / 50\n"
     ]
    },
    {
     "name": "stderr",
     "output_type": "stream",
     "text": [
      "100%|██████████| 43/43 [00:02<00:00, 18.68it/s]\n"
     ]
    },
    {
     "name": "stdout",
     "output_type": "stream",
     "text": [
      "D Loss: 1.3892, G Loss: -0.6968\n",
      "Epoch 19 / 50\n"
     ]
    },
    {
     "name": "stderr",
     "output_type": "stream",
     "text": [
      "100%|██████████| 43/43 [00:02<00:00, 18.85it/s]\n"
     ]
    },
    {
     "name": "stdout",
     "output_type": "stream",
     "text": [
      "D Loss: 1.3919, G Loss: -0.6912\n",
      "Epoch 20 / 50\n"
     ]
    },
    {
     "name": "stderr",
     "output_type": "stream",
     "text": [
      "100%|██████████| 43/43 [00:02<00:00, 18.34it/s]\n"
     ]
    },
    {
     "name": "stdout",
     "output_type": "stream",
     "text": [
      "D Loss: 1.3889, G Loss: -0.6918\n",
      "Epoch 21 / 50\n"
     ]
    },
    {
     "name": "stderr",
     "output_type": "stream",
     "text": [
      "100%|██████████| 43/43 [00:02<00:00, 19.33it/s]\n"
     ]
    },
    {
     "name": "stdout",
     "output_type": "stream",
     "text": [
      "D Loss: 1.3848, G Loss: -0.6896\n",
      "Epoch 22 / 50\n"
     ]
    },
    {
     "name": "stderr",
     "output_type": "stream",
     "text": [
      "100%|██████████| 43/43 [00:02<00:00, 18.85it/s]\n"
     ]
    },
    {
     "name": "stdout",
     "output_type": "stream",
     "text": [
      "D Loss: 1.3867, G Loss: -0.6897\n",
      "Epoch 23 / 50\n"
     ]
    },
    {
     "name": "stderr",
     "output_type": "stream",
     "text": [
      "100%|██████████| 43/43 [00:02<00:00, 19.45it/s]\n"
     ]
    },
    {
     "name": "stdout",
     "output_type": "stream",
     "text": [
      "D Loss: 1.3870, G Loss: -0.6925\n",
      "Epoch 24 / 50\n"
     ]
    },
    {
     "name": "stderr",
     "output_type": "stream",
     "text": [
      "100%|██████████| 43/43 [00:02<00:00, 19.25it/s]\n"
     ]
    },
    {
     "name": "stdout",
     "output_type": "stream",
     "text": [
      "D Loss: 1.3901, G Loss: -0.6893\n",
      "Epoch 25 / 50\n"
     ]
    },
    {
     "name": "stderr",
     "output_type": "stream",
     "text": [
      "100%|██████████| 43/43 [00:02<00:00, 18.43it/s]\n"
     ]
    },
    {
     "name": "stdout",
     "output_type": "stream",
     "text": [
      "D Loss: 1.3882, G Loss: -0.6934\n",
      "Epoch 26 / 50\n"
     ]
    },
    {
     "name": "stderr",
     "output_type": "stream",
     "text": [
      "100%|██████████| 43/43 [00:02<00:00, 19.40it/s]\n"
     ]
    },
    {
     "name": "stdout",
     "output_type": "stream",
     "text": [
      "D Loss: 1.3903, G Loss: -0.6902\n",
      "Epoch 27 / 50\n"
     ]
    },
    {
     "name": "stderr",
     "output_type": "stream",
     "text": [
      "100%|██████████| 43/43 [00:02<00:00, 17.41it/s]\n"
     ]
    },
    {
     "name": "stdout",
     "output_type": "stream",
     "text": [
      "D Loss: 1.3909, G Loss: -0.6936\n",
      "Epoch 28 / 50\n"
     ]
    },
    {
     "name": "stderr",
     "output_type": "stream",
     "text": [
      "100%|██████████| 43/43 [00:02<00:00, 18.50it/s]\n"
     ]
    },
    {
     "name": "stdout",
     "output_type": "stream",
     "text": [
      "D Loss: 1.3905, G Loss: -0.6924\n",
      "Epoch 29 / 50\n"
     ]
    },
    {
     "name": "stderr",
     "output_type": "stream",
     "text": [
      "100%|██████████| 43/43 [00:02<00:00, 18.39it/s]\n"
     ]
    },
    {
     "name": "stdout",
     "output_type": "stream",
     "text": [
      "D Loss: 1.3818, G Loss: -0.6966\n",
      "Epoch 30 / 50\n"
     ]
    },
    {
     "name": "stderr",
     "output_type": "stream",
     "text": [
      "100%|██████████| 43/43 [00:02<00:00, 18.76it/s]\n"
     ]
    },
    {
     "name": "stdout",
     "output_type": "stream",
     "text": [
      "D Loss: 1.3851, G Loss: -0.6895\n",
      "Epoch 31 / 50\n"
     ]
    },
    {
     "name": "stderr",
     "output_type": "stream",
     "text": [
      "100%|██████████| 43/43 [00:02<00:00, 18.37it/s]\n"
     ]
    },
    {
     "name": "stdout",
     "output_type": "stream",
     "text": [
      "D Loss: 1.3829, G Loss: -0.6891\n",
      "Epoch 32 / 50\n"
     ]
    },
    {
     "name": "stderr",
     "output_type": "stream",
     "text": [
      "100%|██████████| 43/43 [00:02<00:00, 18.83it/s]\n"
     ]
    },
    {
     "name": "stdout",
     "output_type": "stream",
     "text": [
      "D Loss: 1.3908, G Loss: -0.6949\n",
      "Epoch 33 / 50\n"
     ]
    },
    {
     "name": "stderr",
     "output_type": "stream",
     "text": [
      "100%|██████████| 43/43 [00:02<00:00, 16.93it/s]\n"
     ]
    },
    {
     "name": "stdout",
     "output_type": "stream",
     "text": [
      "D Loss: 1.3869, G Loss: -0.6919\n",
      "Epoch 34 / 50\n"
     ]
    },
    {
     "name": "stderr",
     "output_type": "stream",
     "text": [
      "100%|██████████| 43/43 [00:02<00:00, 18.62it/s]\n"
     ]
    },
    {
     "name": "stdout",
     "output_type": "stream",
     "text": [
      "D Loss: 1.3825, G Loss: -0.6898\n",
      "Epoch 35 / 50\n"
     ]
    },
    {
     "name": "stderr",
     "output_type": "stream",
     "text": [
      "100%|██████████| 43/43 [00:02<00:00, 18.35it/s]\n"
     ]
    },
    {
     "name": "stdout",
     "output_type": "stream",
     "text": [
      "D Loss: 1.3904, G Loss: -0.6917\n",
      "Epoch 36 / 50\n"
     ]
    },
    {
     "name": "stderr",
     "output_type": "stream",
     "text": [
      "100%|██████████| 43/43 [00:02<00:00, 18.54it/s]\n"
     ]
    },
    {
     "name": "stdout",
     "output_type": "stream",
     "text": [
      "D Loss: 1.3871, G Loss: -0.6963\n",
      "Epoch 37 / 50\n"
     ]
    },
    {
     "name": "stderr",
     "output_type": "stream",
     "text": [
      "100%|██████████| 43/43 [00:02<00:00, 18.45it/s]\n"
     ]
    },
    {
     "name": "stdout",
     "output_type": "stream",
     "text": [
      "D Loss: 1.3815, G Loss: -0.6907\n",
      "Epoch 38 / 50\n"
     ]
    },
    {
     "name": "stderr",
     "output_type": "stream",
     "text": [
      "100%|██████████| 43/43 [00:02<00:00, 18.12it/s]\n"
     ]
    },
    {
     "name": "stdout",
     "output_type": "stream",
     "text": [
      "D Loss: 1.3865, G Loss: -0.6904\n",
      "Epoch 39 / 50\n"
     ]
    },
    {
     "name": "stderr",
     "output_type": "stream",
     "text": [
      "100%|██████████| 43/43 [00:02<00:00, 17.81it/s]\n"
     ]
    },
    {
     "name": "stdout",
     "output_type": "stream",
     "text": [
      "D Loss: 1.3903, G Loss: -0.6909\n",
      "Epoch 40 / 50\n"
     ]
    },
    {
     "name": "stderr",
     "output_type": "stream",
     "text": [
      "100%|██████████| 43/43 [00:02<00:00, 18.48it/s]\n"
     ]
    },
    {
     "name": "stdout",
     "output_type": "stream",
     "text": [
      "D Loss: 1.3853, G Loss: -0.6921\n",
      "Epoch 41 / 50\n"
     ]
    },
    {
     "name": "stderr",
     "output_type": "stream",
     "text": [
      "100%|██████████| 43/43 [00:02<00:00, 18.02it/s]\n"
     ]
    },
    {
     "name": "stdout",
     "output_type": "stream",
     "text": [
      "D Loss: 1.3869, G Loss: -0.6922\n",
      "Epoch 42 / 50\n"
     ]
    },
    {
     "name": "stderr",
     "output_type": "stream",
     "text": [
      "100%|██████████| 43/43 [00:02<00:00, 18.54it/s]\n"
     ]
    },
    {
     "name": "stdout",
     "output_type": "stream",
     "text": [
      "D Loss: 1.3869, G Loss: -0.6914\n",
      "Epoch 43 / 50\n"
     ]
    },
    {
     "name": "stderr",
     "output_type": "stream",
     "text": [
      "100%|██████████| 43/43 [00:02<00:00, 18.50it/s]\n"
     ]
    },
    {
     "name": "stdout",
     "output_type": "stream",
     "text": [
      "D Loss: 1.3837, G Loss: -0.6922\n",
      "Epoch 44 / 50\n"
     ]
    },
    {
     "name": "stderr",
     "output_type": "stream",
     "text": [
      "100%|██████████| 43/43 [00:02<00:00, 18.48it/s]\n"
     ]
    },
    {
     "name": "stdout",
     "output_type": "stream",
     "text": [
      "D Loss: 1.3874, G Loss: -0.6934\n",
      "Epoch 45 / 50\n"
     ]
    },
    {
     "name": "stderr",
     "output_type": "stream",
     "text": [
      "100%|██████████| 43/43 [00:02<00:00, 18.49it/s]\n"
     ]
    },
    {
     "name": "stdout",
     "output_type": "stream",
     "text": [
      "D Loss: 1.3867, G Loss: -0.6901\n",
      "Epoch 46 / 50\n"
     ]
    },
    {
     "name": "stderr",
     "output_type": "stream",
     "text": [
      "100%|██████████| 43/43 [00:02<00:00, 18.01it/s]\n"
     ]
    },
    {
     "name": "stdout",
     "output_type": "stream",
     "text": [
      "D Loss: 1.3768, G Loss: -0.6909\n",
      "Epoch 47 / 50\n"
     ]
    },
    {
     "name": "stderr",
     "output_type": "stream",
     "text": [
      "100%|██████████| 43/43 [00:02<00:00, 18.49it/s]\n"
     ]
    },
    {
     "name": "stdout",
     "output_type": "stream",
     "text": [
      "D Loss: 1.3828, G Loss: -0.6990\n",
      "Epoch 48 / 50\n"
     ]
    },
    {
     "name": "stderr",
     "output_type": "stream",
     "text": [
      "100%|██████████| 43/43 [00:02<00:00, 18.19it/s]\n"
     ]
    },
    {
     "name": "stdout",
     "output_type": "stream",
     "text": [
      "D Loss: 1.3834, G Loss: -0.6904\n",
      "Epoch 49 / 50\n"
     ]
    },
    {
     "name": "stderr",
     "output_type": "stream",
     "text": [
      "100%|██████████| 43/43 [00:02<00:00, 16.32it/s]\n"
     ]
    },
    {
     "name": "stdout",
     "output_type": "stream",
     "text": [
      "D Loss: 1.3883, G Loss: -0.6916\n",
      "Epoch 50 / 50\n"
     ]
    },
    {
     "name": "stderr",
     "output_type": "stream",
     "text": [
      "100%|██████████| 43/43 [00:02<00:00, 17.71it/s]"
     ]
    },
    {
     "name": "stdout",
     "output_type": "stream",
     "text": [
      "D Loss: 1.3821, G Loss: -0.6915\n"
     ]
    },
    {
     "name": "stderr",
     "output_type": "stream",
     "text": [
      "\n"
     ]
    }
   ],
   "source": [
    "# note that the temperature is set to any value between 0 and 1. \n",
    "g_losses ,d_losses =  train_gan_model(\n",
    "    gen,\n",
    "    disc,\n",
    "    gen_optimizer,\n",
    "    disc_optimizer,\n",
    "    train_loader,\n",
    "    epochs,\n",
    "    vocab_size,\n",
    "    device=device,\n",
    "    tau=temperature,\n",
    ")"
   ]
  },
  {
   "cell_type": "code",
   "execution_count": 16,
   "metadata": {},
   "outputs": [
    {
     "data": {
      "image/png": "[encoded data removed]",
      "text/plain": [
       "<Figure size 2000x1000 with 1 Axes>"
      ]
     },
     "metadata": {},
     "output_type": "display_data"
    }
   ],
   "source": [
    "plot_loss_curve(g_losses, d_losses, epochs)"
   ]
  },
  {
   "cell_type": "markdown",
   "metadata": {},
   "source": [
    "##  generate fake samples\n"
   ]
  },
  {
   "cell_type": "code",
   "execution_count": 32,
   "metadata": {},
   "outputs": [],
   "source": [
    "fake_labels = torch.randint(0, num_classes, (n_samples,), dtype=torch.long)\n",
    "z = torch.randn((n_samples, latent_dim))\n",
    "\n",
    "# print(\"random noise shape\", z.shape)\n",
    "# set generator to eval mode\n",
    "gen.eval()\n",
    "\n",
    "fake_data = gen(z.to(device), fake_labels.to(device)).detach().cpu()\n",
    "\n",
    "# print the generated data: if the data contains nan values, it means that there is gradient explosion, or other issues. To avoid such problems, change the termperature value to be between 0.1 and 0.5. Also, trying changing the learning rate to be between 5e-6 and 1e-4. Of course, this is just a suggestion. You might experiment with other values if you want, and report your findings.\n",
    "# print(fake_data[0])"
   ]
  },
  {
   "cell_type": "code",
   "execution_count": 39,
   "metadata": {},
   "outputs": [
    {
     "name": "stdout",
     "output_type": "stream",
     "text": [
      "array([[137, 233, 169,  82, 228,   3, 185, 253, 248, 258,  76, 322, 178,\n",
      "        237, 161, 229, 286,  70, 325, 153, 204, 162,  68,   1, 299, 176,\n",
      "          0,  82, 188, 230, 307,  99, 126, 100,  20, 216, 124,  75, 284,\n",
      "        325, 214,  73, 152, 272, 122, 318,   7, 280, 278,  40, 274, 216,\n",
      "         62, 232, 247, 201, 238, 138, 106, 177,  13, 246,  59, 293, 111,\n",
      "         37,  23, 224,  70, 182,  23, 277, 321, 335,  45, 146, 225, 311,\n",
      "        308,  71,  29, 116,  75, 277, 115, 263, 168,  94, 192, 102, 114,\n",
      "        209,  12,  70, 273, 150, 238, 194, 219, 307],\n",
      "       [156, 208,   3, 118, 255,  59,  69, 144, 338, 159, 244, 153, 290,\n",
      "         79,  12, 273, 265, 207, 299, 146, 184, 196, 228, 142,  93, 125,\n",
      "        143, 322, 234,  86, 148,  33, 166,  80, 297, 188,  12, 288, 173,\n",
      "         19, 317, 130, 210, 274,   7,  67, 280, 269, 223, 341, 299,  97,\n",
      "         64, 146, 100, 174, 319, 230, 105, 204,  49, 246, 200, 284, 322,\n",
      "        100,   9, 125, 108, 310,  22, 105, 317, 153, 241, 214, 222, 260,\n",
      "         68, 170, 185, 290, 252, 182, 115, 146, 279, 297, 230,  29, 225,\n",
      "        243, 104,  19, 135,  96, 177, 163, 158, 294]])\n"
     ]
    }
   ],
   "source": [
    "# get the generated samples as tokens (this are a sequence tokens or words / characters, represented by integers .)\n",
    "from pprint import pprint\n",
    "\n",
    "fake_samples = torch.argmax(fake_data, dim=-1).cpu().numpy()\n",
    "\n",
    "# now, let's see two generated sequences\n",
    "pprint(fake_samples[:2])"
   ]
  },
  {
   "cell_type": "code",
   "execution_count": null,
   "metadata": {},
   "outputs": [],
   "source": []
  },
  {
   "cell_type": "markdown",
   "metadata": {},
   "source": [
    "# Now, we can generate from generated tokens (i.e., sequence)\n",
    "``` To do so, we can use the sequence_to_graph() function given in the preprocess_data.py```"
   ]
  },
  {
   "cell_type": "code",
   "execution_count": 29,
   "metadata": {},
   "outputs": [],
   "source": [
    "# convert the generated samples into a networkx graph and also pytorch_geometric graph data object\n",
    "networkx_graph, pytorch_geometric_data = sequence_to_graph(fake_samples[0])"
   ]
  },
  {
   "cell_type": "code",
   "execution_count": 31,
   "metadata": {},
   "outputs": [
    {
     "data": {
      "image/png": "[encoded data removed]",
      "text/plain": [
       "<Figure size 640x480 with 1 Axes>"
      ]
     },
     "metadata": {},
     "output_type": "display_data"
    }
   ],
   "source": [
    "# you can see the networkx graph we generated\n",
    "nx.draw(networkx_graph, with_labels=True)\n",
    "plt.show()"
   ]
  },
  {
   "cell_type": "markdown",
   "metadata": {},
   "source": []
  }
 ],
 "metadata": {
  "kernelspec": {
   "display_name": "graphganvenv",
   "language": "python",
   "name": "python3"
  },
  "language_info": {
   "codemirror_mode": {
    "name": "ipython",
    "version": 3
   },
   "file_extension": ".py",
   "mimetype": "text/x-python",
   "name": "python",
   "nbconvert_exporter": "python",
   "pygments_lexer": "ipython3",
   "version": "3.12.0"
  }
 },
 "nbformat": 4,
 "nbformat_minor": 2
}

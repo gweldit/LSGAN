{
 "cells": [
  {
   "cell_type": "code",
   "execution_count": 1,
   "metadata": {},
   "outputs": [],
   "source": [
    "from models import Generator, Discriminator\n",
    "from torch.optim import Adam\n",
    "import torch\n",
    "import torch.nn.functional as F\n",
    "from torch.utils.data import DataLoader\n",
    "from custom_dataset import CustomSequenceDataset\n",
    "from tqdm import tqdm\n",
    "from utils import get_device, plot_loss_curve\n"
   ]
  },
  {
   "cell_type": "code",
   "execution_count": 2,
   "metadata": {},
   "outputs": [],
   "source": [
    "def train(\n",
    "    generator,\n",
    "    discriminator,\n",
    "    gen_optimizer,\n",
    "    disc_optimizer,\n",
    "    train_loader,\n",
    "    epochs,\n",
    "    vocab_size,\n",
    "    device=\"cpu\",\n",
    "    temperature=0.01,\n",
    "):\n",
    "    generator_losses = []\n",
    "    discriminator_losses = []\n",
    "    for epoch in range(1, epochs + 1):\n",
    "        print(f\"Epoch {epoch} / {epochs}\")\n",
    "\n",
    "        gloss = 0.0\n",
    "        dloss = 0.0\n",
    "        for data, labels in tqdm(train_loader):\n",
    "            # print(labels)\n",
    "\n",
    "            # encode data to one-hot encoding\n",
    "            data = F.one_hot(data.long(), vocab_size).float().to(device)\n",
    "\n",
    "            labels = labels.long().to(device)\n",
    "\n",
    "            # Train Discriminator\n",
    "            disc_optimizer.zero_grad()\n",
    "            # generate random noise\n",
    "            latent_dim = generator.latent_dim\n",
    "            z = torch.randn(data.shape[0], latent_dim).to(device)\n",
    "            # generate fake data\n",
    "            gen_data = generator(z, labels)\n",
    "\n",
    "            # print(\"gen data shape\", gen_data.shape)\n",
    "\n",
    "            # perform discrete categorical sampling\n",
    "            gen_data = F.gumbel_softmax(gen_data, tau=0.1, hard=False)\n",
    "\n",
    "            # feed real data to discriminator\n",
    "            disc_real = discriminator(data, labels)\n",
    "\n",
    "            # feed fake data to discriminator\n",
    "            disc_fake = discriminator(gen_data.detach(), labels)\n",
    "\n",
    "            # compute discriminator loss\n",
    "            disc_loss = -torch.mean(torch.log(disc_real) + torch.log(1 - disc_fake))\n",
    "\n",
    "            dloss += disc_loss.item()\n",
    "\n",
    "\n",
    "            # backward pass\n",
    "            disc_loss.backward()\n",
    "\n",
    "            # update discriminator weights\n",
    "            disc_optimizer.step()\n",
    "\n",
    "            # Train Generator\n",
    "            gen_optimizer.zero_grad()\n",
    "            z = torch.randn(data.shape[0], latent_dim).to(device)\n",
    "\n",
    "            # generate fake data\n",
    "            gen_data = generator(z, labels)\n",
    "\n",
    "            # perform discrete categorical sampling\n",
    "            # print(\"gen data shape\", gen_data.shape)\n",
    "            gen_data = F.gumbel_softmax(gen_data, tau=temperature, hard=False, dim=-1)\n",
    "\n",
    "            # feed fake data to discriminator\n",
    "            disc_fake = discriminator(gen_data, labels)\n",
    "\n",
    "            # compute generator loss\n",
    "            gen_loss = torch.mean(1 - torch.log(disc_fake))\n",
    "\n",
    "            gloss += gen_loss.item()\n",
    "\n",
    "\n",
    "            # backward pass\n",
    "            gen_loss.backward()\n",
    "\n",
    "            # update generator weights\n",
    "            gen_optimizer.step()\n",
    "\n",
    "        n_batches = len(train_loader)\n",
    "        dloss = torch.round(torch.tensor(dloss), decimals=4)\n",
    "        gloss = torch.round(torch.tensor(gloss), decimals=4)\n",
    "\n",
    "        discriminator_losses.append(dloss)\n",
    "        generator_losses.append(gloss)\n",
    "\n",
    "\n",
    "        print(f\"D Loss: {disc_loss.item():.4f}, G Loss: {gen_loss.item():.4f}\")\n",
    "    \n",
    "    return generator_losses, discriminator_losses\n",
    "\n",
    "\n",
    "    \n"
   ]
  },
  {
   "cell_type": "code",
   "execution_count": 3,
   "metadata": {},
   "outputs": [],
   "source": [
    "# hyperparameters of the generator and discriminator of the GAN model\n",
    "latent_dim = 100\n",
    "hidden_dim = 128\n",
    "vocab_size = 50\n",
    "seq_len = 100\n",
    "output_dim = vocab_size\n",
    "embed_dim = 10\n",
    "dropout = 0.3\n",
    "batch_size = 32\n",
    "n_samples = 1000\n",
    "num_classes = 2\n",
    "lr = 2e-6\n",
    "epochs = 50\n",
    "# criterion = nn.BCELoss()\n",
    "criterion = F.cross_entropy\n",
    "device = get_device()\n",
    "\n",
    "gen = Generator(latent_dim, seq_len, hidden_dim, output_dim, embed_dim, dropout, conditional_info=True, num_classes=num_classes).to(\n",
    "    device\n",
    ")\n",
    "# gen = Gen(latent_dim, hidden_dim, seq_len, output_dim, embed_dim, dropout).to(device)\n",
    "\n",
    "disc = Discriminator(vocab_size,seq_len, hidden_dim, embed_dim, dropout, conditional_info=True, num_classes=num_classes).to(device)\n",
    "\n",
    "gen_optimizer = Adam(gen.parameters(), lr=lr, betas=(0.5, 0.999))\n",
    "\n",
    "disc_optimizer = Adam(disc.parameters(), lr=lr, betas=(0.5, 0.999))\n",
    "\n",
    "\n"
   ]
  },
  {
   "cell_type": "code",
   "execution_count": 4,
   "metadata": {},
   "outputs": [],
   "source": [
    "\n",
    "input_data = torch.randint(0, vocab_size, (n_samples, seq_len))\n",
    "input_labels = torch.randint(0, num_classes, (n_samples,))\n",
    "train_dataset = CustomSequenceDataset(input_data, input_labels)\n",
    "train_loader = DataLoader(train_dataset, batch_size=batch_size, shuffle=True)\n"
   ]
  },
  {
   "cell_type": "code",
   "execution_count": 5,
   "metadata": {},
   "outputs": [
    {
     "name": "stdout",
     "output_type": "stream",
     "text": [
      "Epoch 1 / 50\n"
     ]
    },
    {
     "name": "stderr",
     "output_type": "stream",
     "text": [
      "100%|██████████| 32/32 [00:02<00:00, 12.08it/s]\n"
     ]
    },
    {
     "name": "stdout",
     "output_type": "stream",
     "text": [
      "D Loss: 1.3844, G Loss: 1.6990\n",
      "Epoch 2 / 50\n"
     ]
    },
    {
     "name": "stderr",
     "output_type": "stream",
     "text": [
      "100%|██████████| 32/32 [00:01<00:00, 23.19it/s]\n"
     ]
    },
    {
     "name": "stdout",
     "output_type": "stream",
     "text": [
      "D Loss: 1.3815, G Loss: 1.7010\n",
      "Epoch 3 / 50\n"
     ]
    },
    {
     "name": "stderr",
     "output_type": "stream",
     "text": [
      "100%|██████████| 32/32 [00:01<00:00, 22.77it/s]\n"
     ]
    },
    {
     "name": "stdout",
     "output_type": "stream",
     "text": [
      "D Loss: 1.3881, G Loss: 1.6995\n",
      "Epoch 4 / 50\n"
     ]
    },
    {
     "name": "stderr",
     "output_type": "stream",
     "text": [
      "100%|██████████| 32/32 [00:01<00:00, 23.33it/s]\n"
     ]
    },
    {
     "name": "stdout",
     "output_type": "stream",
     "text": [
      "D Loss: 1.3854, G Loss: 1.7042\n",
      "Epoch 5 / 50\n"
     ]
    },
    {
     "name": "stderr",
     "output_type": "stream",
     "text": [
      "100%|██████████| 32/32 [00:01<00:00, 23.39it/s]\n"
     ]
    },
    {
     "name": "stdout",
     "output_type": "stream",
     "text": [
      "D Loss: 1.3815, G Loss: 1.7020\n",
      "Epoch 6 / 50\n"
     ]
    },
    {
     "name": "stderr",
     "output_type": "stream",
     "text": [
      "100%|██████████| 32/32 [00:01<00:00, 23.58it/s]\n"
     ]
    },
    {
     "name": "stdout",
     "output_type": "stream",
     "text": [
      "D Loss: 1.3839, G Loss: 1.7054\n",
      "Epoch 7 / 50\n"
     ]
    },
    {
     "name": "stderr",
     "output_type": "stream",
     "text": [
      "100%|██████████| 32/32 [00:01<00:00, 23.36it/s]\n"
     ]
    },
    {
     "name": "stdout",
     "output_type": "stream",
     "text": [
      "D Loss: 1.3790, G Loss: 1.6998\n",
      "Epoch 8 / 50\n"
     ]
    },
    {
     "name": "stderr",
     "output_type": "stream",
     "text": [
      "100%|██████████| 32/32 [00:01<00:00, 22.01it/s]\n"
     ]
    },
    {
     "name": "stdout",
     "output_type": "stream",
     "text": [
      "D Loss: 1.3927, G Loss: 1.7068\n",
      "Epoch 9 / 50\n"
     ]
    },
    {
     "name": "stderr",
     "output_type": "stream",
     "text": [
      "100%|██████████| 32/32 [00:01<00:00, 22.87it/s]\n"
     ]
    },
    {
     "name": "stdout",
     "output_type": "stream",
     "text": [
      "D Loss: 1.3819, G Loss: 1.7017\n",
      "Epoch 10 / 50\n"
     ]
    },
    {
     "name": "stderr",
     "output_type": "stream",
     "text": [
      "100%|██████████| 32/32 [00:01<00:00, 23.09it/s]\n"
     ]
    },
    {
     "name": "stdout",
     "output_type": "stream",
     "text": [
      "D Loss: 1.3842, G Loss: 1.7053\n",
      "Epoch 11 / 50\n"
     ]
    },
    {
     "name": "stderr",
     "output_type": "stream",
     "text": [
      "100%|██████████| 32/32 [00:01<00:00, 23.58it/s]\n"
     ]
    },
    {
     "name": "stdout",
     "output_type": "stream",
     "text": [
      "D Loss: 1.3835, G Loss: 1.7054\n",
      "Epoch 12 / 50\n"
     ]
    },
    {
     "name": "stderr",
     "output_type": "stream",
     "text": [
      "100%|██████████| 32/32 [00:01<00:00, 23.41it/s]\n"
     ]
    },
    {
     "name": "stdout",
     "output_type": "stream",
     "text": [
      "D Loss: 1.3956, G Loss: 1.7054\n",
      "Epoch 13 / 50\n"
     ]
    },
    {
     "name": "stderr",
     "output_type": "stream",
     "text": [
      "100%|██████████| 32/32 [00:01<00:00, 23.66it/s]\n"
     ]
    },
    {
     "name": "stdout",
     "output_type": "stream",
     "text": [
      "D Loss: 1.3856, G Loss: 1.7038\n",
      "Epoch 14 / 50\n"
     ]
    },
    {
     "name": "stderr",
     "output_type": "stream",
     "text": [
      "100%|██████████| 32/32 [00:01<00:00, 23.59it/s]\n"
     ]
    },
    {
     "name": "stdout",
     "output_type": "stream",
     "text": [
      "D Loss: 1.3862, G Loss: 1.7035\n",
      "Epoch 15 / 50\n"
     ]
    },
    {
     "name": "stderr",
     "output_type": "stream",
     "text": [
      "100%|██████████| 32/32 [00:01<00:00, 21.82it/s]\n"
     ]
    },
    {
     "name": "stdout",
     "output_type": "stream",
     "text": [
      "D Loss: 1.3825, G Loss: 1.7015\n",
      "Epoch 16 / 50\n"
     ]
    },
    {
     "name": "stderr",
     "output_type": "stream",
     "text": [
      "100%|██████████| 32/32 [00:01<00:00, 22.95it/s]\n"
     ]
    },
    {
     "name": "stdout",
     "output_type": "stream",
     "text": [
      "D Loss: 1.3892, G Loss: 1.7020\n",
      "Epoch 17 / 50\n"
     ]
    },
    {
     "name": "stderr",
     "output_type": "stream",
     "text": [
      "100%|██████████| 32/32 [00:01<00:00, 23.32it/s]\n"
     ]
    },
    {
     "name": "stdout",
     "output_type": "stream",
     "text": [
      "D Loss: 1.3886, G Loss: 1.6996\n",
      "Epoch 18 / 50\n"
     ]
    },
    {
     "name": "stderr",
     "output_type": "stream",
     "text": [
      "100%|██████████| 32/32 [00:01<00:00, 23.49it/s]\n"
     ]
    },
    {
     "name": "stdout",
     "output_type": "stream",
     "text": [
      "D Loss: 1.3829, G Loss: 1.7072\n",
      "Epoch 19 / 50\n"
     ]
    },
    {
     "name": "stderr",
     "output_type": "stream",
     "text": [
      "100%|██████████| 32/32 [00:01<00:00, 23.56it/s]\n"
     ]
    },
    {
     "name": "stdout",
     "output_type": "stream",
     "text": [
      "D Loss: 1.3833, G Loss: 1.7025\n",
      "Epoch 20 / 50\n"
     ]
    },
    {
     "name": "stderr",
     "output_type": "stream",
     "text": [
      "100%|██████████| 32/32 [00:01<00:00, 26.17it/s]\n"
     ]
    },
    {
     "name": "stdout",
     "output_type": "stream",
     "text": [
      "D Loss: 1.3910, G Loss: 1.6985\n",
      "Epoch 21 / 50\n"
     ]
    },
    {
     "name": "stderr",
     "output_type": "stream",
     "text": [
      "100%|██████████| 32/32 [00:01<00:00, 24.26it/s]\n"
     ]
    },
    {
     "name": "stdout",
     "output_type": "stream",
     "text": [
      "D Loss: 1.3872, G Loss: 1.7067\n",
      "Epoch 22 / 50\n"
     ]
    },
    {
     "name": "stderr",
     "output_type": "stream",
     "text": [
      "100%|██████████| 32/32 [00:01<00:00, 22.30it/s]\n"
     ]
    },
    {
     "name": "stdout",
     "output_type": "stream",
     "text": [
      "D Loss: 1.3828, G Loss: 1.6986\n",
      "Epoch 23 / 50\n"
     ]
    },
    {
     "name": "stderr",
     "output_type": "stream",
     "text": [
      "100%|██████████| 32/32 [00:01<00:00, 19.15it/s]\n"
     ]
    },
    {
     "name": "stdout",
     "output_type": "stream",
     "text": [
      "D Loss: 1.3938, G Loss: 1.6994\n",
      "Epoch 24 / 50\n"
     ]
    },
    {
     "name": "stderr",
     "output_type": "stream",
     "text": [
      "100%|██████████| 32/32 [00:01<00:00, 22.52it/s]\n"
     ]
    },
    {
     "name": "stdout",
     "output_type": "stream",
     "text": [
      "D Loss: 1.3837, G Loss: 1.6992\n",
      "Epoch 25 / 50\n"
     ]
    },
    {
     "name": "stderr",
     "output_type": "stream",
     "text": [
      "100%|██████████| 32/32 [00:01<00:00, 22.63it/s]\n"
     ]
    },
    {
     "name": "stdout",
     "output_type": "stream",
     "text": [
      "D Loss: 1.3857, G Loss: 1.7022\n",
      "Epoch 26 / 50\n"
     ]
    },
    {
     "name": "stderr",
     "output_type": "stream",
     "text": [
      "100%|██████████| 32/32 [00:01<00:00, 22.09it/s]\n"
     ]
    },
    {
     "name": "stdout",
     "output_type": "stream",
     "text": [
      "D Loss: 1.3896, G Loss: 1.7063\n",
      "Epoch 27 / 50\n"
     ]
    },
    {
     "name": "stderr",
     "output_type": "stream",
     "text": [
      "100%|██████████| 32/32 [00:01<00:00, 22.83it/s]\n"
     ]
    },
    {
     "name": "stdout",
     "output_type": "stream",
     "text": [
      "D Loss: 1.3876, G Loss: 1.6991\n",
      "Epoch 28 / 50\n"
     ]
    },
    {
     "name": "stderr",
     "output_type": "stream",
     "text": [
      "100%|██████████| 32/32 [00:01<00:00, 23.04it/s]\n"
     ]
    },
    {
     "name": "stdout",
     "output_type": "stream",
     "text": [
      "D Loss: 1.3904, G Loss: 1.6972\n",
      "Epoch 29 / 50\n"
     ]
    },
    {
     "name": "stderr",
     "output_type": "stream",
     "text": [
      "100%|██████████| 32/32 [00:01<00:00, 23.22it/s]\n"
     ]
    },
    {
     "name": "stdout",
     "output_type": "stream",
     "text": [
      "D Loss: 1.3877, G Loss: 1.7113\n",
      "Epoch 30 / 50\n"
     ]
    },
    {
     "name": "stderr",
     "output_type": "stream",
     "text": [
      "100%|██████████| 32/32 [00:01<00:00, 23.50it/s]\n"
     ]
    },
    {
     "name": "stdout",
     "output_type": "stream",
     "text": [
      "D Loss: 1.3879, G Loss: 1.7015\n",
      "Epoch 31 / 50\n"
     ]
    },
    {
     "name": "stderr",
     "output_type": "stream",
     "text": [
      "100%|██████████| 32/32 [00:01<00:00, 23.61it/s]\n"
     ]
    },
    {
     "name": "stdout",
     "output_type": "stream",
     "text": [
      "D Loss: 1.3895, G Loss: 1.7015\n",
      "Epoch 32 / 50\n"
     ]
    },
    {
     "name": "stderr",
     "output_type": "stream",
     "text": [
      "100%|██████████| 32/32 [00:01<00:00, 23.51it/s]\n"
     ]
    },
    {
     "name": "stdout",
     "output_type": "stream",
     "text": [
      "D Loss: 1.3818, G Loss: 1.7045\n",
      "Epoch 33 / 50\n"
     ]
    },
    {
     "name": "stderr",
     "output_type": "stream",
     "text": [
      "100%|██████████| 32/32 [00:01<00:00, 18.07it/s]\n"
     ]
    },
    {
     "name": "stdout",
     "output_type": "stream",
     "text": [
      "D Loss: 1.3840, G Loss: 1.7070\n",
      "Epoch 34 / 50\n"
     ]
    },
    {
     "name": "stderr",
     "output_type": "stream",
     "text": [
      "100%|██████████| 32/32 [00:01<00:00, 16.11it/s]\n"
     ]
    },
    {
     "name": "stdout",
     "output_type": "stream",
     "text": [
      "D Loss: 1.3858, G Loss: 1.7017\n",
      "Epoch 35 / 50\n"
     ]
    },
    {
     "name": "stderr",
     "output_type": "stream",
     "text": [
      "100%|██████████| 32/32 [00:01<00:00, 22.37it/s]\n"
     ]
    },
    {
     "name": "stdout",
     "output_type": "stream",
     "text": [
      "D Loss: 1.3782, G Loss: 1.6995\n",
      "Epoch 36 / 50\n"
     ]
    },
    {
     "name": "stderr",
     "output_type": "stream",
     "text": [
      "100%|██████████| 32/32 [00:01<00:00, 21.44it/s]\n"
     ]
    },
    {
     "name": "stdout",
     "output_type": "stream",
     "text": [
      "D Loss: 1.3816, G Loss: 1.7022\n",
      "Epoch 37 / 50\n"
     ]
    },
    {
     "name": "stderr",
     "output_type": "stream",
     "text": [
      "100%|██████████| 32/32 [00:01<00:00, 21.02it/s]\n"
     ]
    },
    {
     "name": "stdout",
     "output_type": "stream",
     "text": [
      "D Loss: 1.3893, G Loss: 1.6995\n",
      "Epoch 38 / 50\n"
     ]
    },
    {
     "name": "stderr",
     "output_type": "stream",
     "text": [
      "100%|██████████| 32/32 [00:01<00:00, 22.82it/s]\n"
     ]
    },
    {
     "name": "stdout",
     "output_type": "stream",
     "text": [
      "D Loss: 1.3831, G Loss: 1.7105\n",
      "Epoch 39 / 50\n"
     ]
    },
    {
     "name": "stderr",
     "output_type": "stream",
     "text": [
      "100%|██████████| 32/32 [00:01<00:00, 22.76it/s]\n"
     ]
    },
    {
     "name": "stdout",
     "output_type": "stream",
     "text": [
      "D Loss: 1.3871, G Loss: 1.7018\n",
      "Epoch 40 / 50\n"
     ]
    },
    {
     "name": "stderr",
     "output_type": "stream",
     "text": [
      "100%|██████████| 32/32 [00:01<00:00, 22.79it/s]\n"
     ]
    },
    {
     "name": "stdout",
     "output_type": "stream",
     "text": [
      "D Loss: 1.3862, G Loss: 1.7030\n",
      "Epoch 41 / 50\n"
     ]
    },
    {
     "name": "stderr",
     "output_type": "stream",
     "text": [
      "100%|██████████| 32/32 [00:01<00:00, 21.72it/s]\n"
     ]
    },
    {
     "name": "stdout",
     "output_type": "stream",
     "text": [
      "D Loss: 1.3903, G Loss: 1.6998\n",
      "Epoch 42 / 50\n"
     ]
    },
    {
     "name": "stderr",
     "output_type": "stream",
     "text": [
      "100%|██████████| 32/32 [00:01<00:00, 21.60it/s]\n"
     ]
    },
    {
     "name": "stdout",
     "output_type": "stream",
     "text": [
      "D Loss: 1.3956, G Loss: 1.6970\n",
      "Epoch 43 / 50\n"
     ]
    },
    {
     "name": "stderr",
     "output_type": "stream",
     "text": [
      "100%|██████████| 32/32 [00:01<00:00, 21.61it/s]\n"
     ]
    },
    {
     "name": "stdout",
     "output_type": "stream",
     "text": [
      "D Loss: 1.3859, G Loss: 1.7054\n",
      "Epoch 44 / 50\n"
     ]
    },
    {
     "name": "stderr",
     "output_type": "stream",
     "text": [
      "100%|██████████| 32/32 [00:01<00:00, 22.09it/s]\n"
     ]
    },
    {
     "name": "stdout",
     "output_type": "stream",
     "text": [
      "D Loss: 1.3865, G Loss: 1.6992\n",
      "Epoch 45 / 50\n"
     ]
    },
    {
     "name": "stderr",
     "output_type": "stream",
     "text": [
      "100%|██████████| 32/32 [00:01<00:00, 19.92it/s]\n"
     ]
    },
    {
     "name": "stdout",
     "output_type": "stream",
     "text": [
      "D Loss: 1.3911, G Loss: 1.7007\n",
      "Epoch 46 / 50\n"
     ]
    },
    {
     "name": "stderr",
     "output_type": "stream",
     "text": [
      "100%|██████████| 32/32 [00:01<00:00, 19.61it/s]\n"
     ]
    },
    {
     "name": "stdout",
     "output_type": "stream",
     "text": [
      "D Loss: 1.3899, G Loss: 1.7015\n",
      "Epoch 47 / 50\n"
     ]
    },
    {
     "name": "stderr",
     "output_type": "stream",
     "text": [
      "100%|██████████| 32/32 [00:01<00:00, 19.63it/s]\n"
     ]
    },
    {
     "name": "stdout",
     "output_type": "stream",
     "text": [
      "D Loss: 1.3818, G Loss: 1.6988\n",
      "Epoch 48 / 50\n"
     ]
    },
    {
     "name": "stderr",
     "output_type": "stream",
     "text": [
      "100%|██████████| 32/32 [00:01<00:00, 20.10it/s]\n"
     ]
    },
    {
     "name": "stdout",
     "output_type": "stream",
     "text": [
      "D Loss: 1.3888, G Loss: 1.7003\n",
      "Epoch 49 / 50\n"
     ]
    },
    {
     "name": "stderr",
     "output_type": "stream",
     "text": [
      "100%|██████████| 32/32 [00:01<00:00, 19.34it/s]\n"
     ]
    },
    {
     "name": "stdout",
     "output_type": "stream",
     "text": [
      "D Loss: 1.3862, G Loss: 1.6970\n",
      "Epoch 50 / 50\n"
     ]
    },
    {
     "name": "stderr",
     "output_type": "stream",
     "text": [
      "100%|██████████| 32/32 [00:01<00:00, 19.74it/s]"
     ]
    },
    {
     "name": "stdout",
     "output_type": "stream",
     "text": [
      "D Loss: 1.3899, G Loss: 1.7008\n"
     ]
    },
    {
     "name": "stderr",
     "output_type": "stream",
     "text": [
      "\n"
     ]
    }
   ],
   "source": [
    "\n",
    "# note that the temperature is set to any value between 0 and 1. \n",
    "g_losses ,d_losses =  train(\n",
    "    gen,\n",
    "    disc,\n",
    "    gen_optimizer,\n",
    "    disc_optimizer,\n",
    "    train_loader,\n",
    "    epochs,\n",
    "    vocab_size,\n",
    "    device=device,\n",
    "    temperature=0.1,\n",
    ")\n"
   ]
  },
  {
   "cell_type": "code",
   "execution_count": 6,
   "metadata": {},
   "outputs": [
    {
     "data": {
      "image/png": "[encoded data removed]",
      "text/plain": [
       "<Figure size 2000x1000 with 1 Axes>"
      ]
     },
     "metadata": {},
     "output_type": "display_data"
    }
   ],
   "source": [
    "plot_loss_curve(g_losses, d_losses, epochs)"
   ]
  },
  {
   "cell_type": "code",
   "execution_count": null,
   "metadata": {},
   "outputs": [],
   "source": []
  },
  {
   "cell_type": "markdown",
   "metadata": {},
   "source": [
    "##  generate fake samples\n"
   ]
  },
  {
   "cell_type": "code",
   "execution_count": 7,
   "metadata": {},
   "outputs": [
    {
     "name": "stdout",
     "output_type": "stream",
     "text": [
      "tensor([[0.0000, 0.0000, 0.0000,  ..., 0.0000, 0.0000, 0.0000],\n",
      "        [0.0576, 0.0000, 0.0810,  ..., 0.0391, 0.0000, 0.0000],\n",
      "        [0.0000, 0.0443, 0.0000,  ..., 0.0095, 0.0000, 0.0000],\n",
      "        ...,\n",
      "        [0.0000, 0.0086, 0.0000,  ..., 0.0000, 0.0000, 0.0000],\n",
      "        [0.0719, 0.0000, 0.0000,  ..., 0.0039, 0.0707, 0.0000],\n",
      "        [0.0000, 0.0000, 0.0508,  ..., 0.0741, 0.0747, 0.0000]],\n",
      "       device='mps:0', grad_fn=<SelectBackward0>)\n"
     ]
    }
   ],
   "source": [
    "fake_labels = torch.randint(0, num_classes, (n_samples,), dtype=torch.long)\n",
    "z = torch.randn((n_samples, seq_len))\n",
    "\n",
    "\n",
    "# set generator to eval mode\n",
    "gen.eval()\n",
    "\n",
    "fake_data = gen(z.to(device), fake_labels.to(device))\n",
    "\n",
    "# print the generated data: if the data contains nan values, it means that there is gradient explosion, or other issues. To avoid such problems, change the termperature value to be between 0.1 and 0.5. Also, trying changing the learning rate to be between 5e-6 and 1e-4. Of course, this is just a suggestion. You might experiment with other values if you want, and report your findings.\n",
    "print(fake_data[0])\n"
   ]
  },
  {
   "cell_type": "code",
   "execution_count": 8,
   "metadata": {},
   "outputs": [
    {
     "data": {
      "text/plain": [
       "array([ 0, 20, 17, 37,  0, 15,  7,  0, 48,  5, 12, 38,  0, 24, 16,  3,  0,\n",
       "        0,  0, 23,  0, 27, 13,  0, 29, 32, 49,  5, 32, 10, 49,  0,  0,  0,\n",
       "       11,  0,  0,  0,  0,  0,  0, 36, 33,  0, 14,  0, 35,  8, 14, 11, 13,\n",
       "       10,  0,  0,  0,  0,  2, 48, 26,  4,  0,  0,  3, 36,  0,  0, 45,  0,\n",
       "       22, 35,  0,  0,  0, 15,  0, 17,  0, 16, 48, 28,  0, 23,  0,  0,  0,\n",
       "       43,  3,  0, 34, 35, 31,  0,  0,  0, 48, 35, 10, 24,  9, 39])"
      ]
     },
     "execution_count": 8,
     "metadata": {},
     "output_type": "execute_result"
    }
   ],
   "source": [
    "# get the generated samples as tokens (this are a sequence tokens or words / characters, represented by integers .)\n",
    "fake_samples = torch.argmax(fake_data, dim=-1).cpu().numpy()\n",
    "\n",
    "# now, let's see one sequence generated\n",
    "fake_samples[10]"
   ]
  }
 ],
 "metadata": {
  "kernelspec": {
   "display_name": "graphganvenv",
   "language": "python",
   "name": "python3"
  },
  "language_info": {
   "codemirror_mode": {
    "name": "ipython",
    "version": 3
   },
   "file_extension": ".py",
   "mimetype": "text/x-python",
   "name": "python",
   "nbconvert_exporter": "python",
   "pygments_lexer": "ipython3",
   "version": "3.12.0"
  }
 },
 "nbformat": 4,
 "nbformat_minor": 2
}
